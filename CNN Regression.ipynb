{
 "cells": [
  {
   "cell_type": "code",
   "execution_count": 1,
   "id": "ce4bd5e9",
   "metadata": {},
   "outputs": [],
   "source": [
    "import pandas as pd\n",
    "import numpy as np\n",
    "import matplotlib.pyplot as plt\n",
    "import tensorflow as tf\n",
    "from keras import models\n",
    "from keras import layers\n",
    "\n",
    "import os\n",
    "from sklearn.metrics import r2_score\n",
    "from matplotlib.image import imread\n",
    "from skimage.transform import resize"
   ]
  },
  {
   "cell_type": "markdown",
   "id": "988c3287",
   "metadata": {},
   "source": [
    "# Prepare Data"
   ]
  },
  {
   "cell_type": "code",
   "execution_count": 2,
   "id": "22390f59",
   "metadata": {},
   "outputs": [],
   "source": [
    "df = pd.read_csv('data/CombinedOutputs.csv')\n",
    "y = df['Strength'].values\n",
    "y = y/1000000000\n",
    "\n",
    "imgs = []\n",
    "for i in range(2525):\n",
    "    img=imread('data/imgs1/'+str(i+1)+'.png')\n",
    "    img_cropped = img[40:592,135:771,:]   #crop image\n",
    "    img_resized = resize(img_cropped, (276, 318, 1))   # resize image\n",
    "    imgs.append(img_resized)\n",
    "imgs = np.array(imgs)\n",
    "\n",
    "from sklearn.model_selection import train_test_split\n",
    "x_train_, x_test, y_train_, y_test = train_test_split(imgs, y, test_size=0.05)\n",
    "x_train, x_valid, y_train, y_valid = train_test_split(x_train_, y_train_, test_size=0.15)"
   ]
  },
  {
   "cell_type": "code",
   "execution_count": 4,
   "id": "90dc2690",
   "metadata": {},
   "outputs": [],
   "source": [
    "# build a CNN\n",
    "from keras import layers\n",
    "from keras import models\n",
    "\n",
    "model = models.Sequential()\n",
    "model.add(layers.Conv2D(32, (3, 3), activation='relu', input_shape=(276, 318, 1)))  \n",
    "model.add(layers.MaxPooling2D((2, 2)))\n",
    "model.add(layers.Conv2D(64, (3, 3), activation='relu'))\n",
    "model.add(layers.MaxPooling2D((2, 2)))\n",
    "model.add(layers.Conv2D(128, (3, 3), activation='relu'))\n",
    "model.add(layers.MaxPooling2D((2, 2)))\n",
    "\n",
    "\n",
    "model.add(layers.Flatten())\n",
    "model.add(layers.Dense(64, activation='relu'))\n",
    "model.add(layers.Dense(32, activation='relu'))\n",
    "model.add(layers.Dense(1)) # regression"
   ]
  },
  {
   "cell_type": "code",
   "execution_count": 5,
   "id": "4bcf080e",
   "metadata": {},
   "outputs": [],
   "source": [
    "model.compile(loss='mse', optimizer='adam')"
   ]
  },
  {
   "cell_type": "code",
   "execution_count": 6,
   "id": "b2d8a19a",
   "metadata": {
    "scrolled": false
   },
   "outputs": [
    {
     "name": "stdout",
     "output_type": "stream",
     "text": [
      "Epoch 1/100\n",
      "102/102 [==============================] - 79s 769ms/step - loss: 0.4218 - val_loss: 0.0068\n",
      "Epoch 2/100\n",
      "102/102 [==============================] - 74s 722ms/step - loss: 0.0102 - val_loss: 0.0066\n",
      "Epoch 3/100\n",
      "102/102 [==============================] - 75s 731ms/step - loss: 0.0087 - val_loss: 0.0066\n",
      "Epoch 4/100\n",
      "102/102 [==============================] - 76s 742ms/step - loss: 0.0081 - val_loss: 0.0067\n",
      "Epoch 5/100\n",
      "102/102 [==============================] - 95s 930ms/step - loss: 0.0066 - val_loss: 0.0070\n",
      "Epoch 6/100\n",
      "102/102 [==============================] - 104s 1s/step - loss: 0.0067 - val_loss: 0.0065\n",
      "Epoch 7/100\n",
      "102/102 [==============================] - 102s 1s/step - loss: 0.0065 - val_loss: 0.0080\n",
      "Epoch 8/100\n",
      "102/102 [==============================] - 109s 1s/step - loss: 0.0065 - val_loss: 0.0085\n",
      "Epoch 9/100\n",
      "102/102 [==============================] - 110s 1s/step - loss: 0.0058 - val_loss: 0.0077\n",
      "Epoch 10/100\n",
      "102/102 [==============================] - 127s 1s/step - loss: 0.0038 - val_loss: 0.0069\n",
      "Epoch 11/100\n",
      "102/102 [==============================] - 123s 1s/step - loss: 0.0044 - val_loss: 0.0079\n"
     ]
    },
    {
     "data": {
      "text/plain": [
       "<keras.callbacks.History at 0x254eb6d3a00>"
      ]
     },
     "execution_count": 6,
     "metadata": {},
     "output_type": "execute_result"
    }
   ],
   "source": [
    "model.fit(x_train, y_train, validation_data=(x_valid, y_valid), epochs=100, batch_size=20, \n",
    "          callbacks=[tf.keras.callbacks.EarlyStopping(monitor='val_loss', patience=5, restore_best_weights=True)])"
   ]
  },
  {
   "cell_type": "code",
   "execution_count": 7,
   "id": "74a7f034",
   "metadata": {},
   "outputs": [
    {
     "name": "stdout",
     "output_type": "stream",
     "text": [
      "4/4 [==============================] - 1s 327ms/step - loss: 0.0042\n"
     ]
    }
   ],
   "source": [
    "test_mse = model.evaluate(x_test, y_test)"
   ]
  },
  {
   "cell_type": "code",
   "execution_count": 8,
   "id": "4d2f3ea8",
   "metadata": {},
   "outputs": [
    {
     "name": "stdout",
     "output_type": "stream",
     "text": [
      "4/4 [==============================] - 1s 315ms/step\n",
      "0.0646665032144964\n",
      "0.9851556309617109\n"
     ]
    }
   ],
   "source": [
    "#https://www.youtube.com/watch?v=9AnCNBL8c6Q\n",
    "predictions = np.squeeze(model.predict(x_test))\n",
    "rmse = np.sqrt(model.evaluate(x_test, y_test, verbose=0))\n",
    "print(rmse)\n",
    "r2 = r2_score(y_test, predictions)\n",
    "print(r2)"
   ]
  },
  {
   "cell_type": "code",
   "execution_count": 20,
   "id": "7ba6ae71",
   "metadata": {},
   "outputs": [
    {
     "name": "stderr",
     "output_type": "stream",
     "text": [
      "WARNING:absl:Found untraced functions such as _jit_compiled_convolution_op, _jit_compiled_convolution_op, _jit_compiled_convolution_op while saving (showing 3 of 3). These functions will not be directly callable after loading.\n"
     ]
    },
    {
     "name": "stdout",
     "output_type": "stream",
     "text": [
      "INFO:tensorflow:Assets written to: ImgToStrength\\assets\n"
     ]
    },
    {
     "name": "stderr",
     "output_type": "stream",
     "text": [
      "INFO:tensorflow:Assets written to: ImgToStrength\\assets\n"
     ]
    }
   ],
   "source": [
    "model.save(\"StrengthRegression\")"
   ]
  },
  {
   "cell_type": "code",
   "execution_count": 12,
   "id": "c288a2f6",
   "metadata": {},
   "outputs": [
    {
     "data": {
      "image/png": "[encoded data removed]",
      "text/plain": [
       "<Figure size 432x288 with 1 Axes>"
      ]
     },
     "metadata": {
      "needs_background": "light"
     },
     "output_type": "display_data"
    }
   ],
   "source": [
    "plt.scatter(y_test, predictions, color='black', s = 10)\n",
    "plt.plot(np.array([0, 4]), np.array([0, 4]), '-k', linewidth = 2)\n",
    "plt.xlim(0,4)\n",
    "plt.ylim(0,4)\n",
    "plt.xlabel('Test data')\n",
    "plt.ylabel('Prediction')\n",
    "plt.show()"
   ]
  }
 ],
 "metadata": {
  "kernelspec": {
   "display_name": "Python 3 (ipykernel)",
   "language": "python",
   "name": "python3"
  },
  "language_info": {
   "codemirror_mode": {
    "name": "ipython",
    "version": 3
   },
   "file_extension": ".py",
   "mimetype": "text/x-python",
   "name": "python",
   "nbconvert_exporter": "python",
   "pygments_lexer": "ipython3",
   "version": "3.10.8"
  }
 },
 "nbformat": 4,
 "nbformat_minor": 5
}
